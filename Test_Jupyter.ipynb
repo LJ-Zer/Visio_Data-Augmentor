{
 "cells": [
  {
   "cell_type": "code",
   "execution_count": null,
   "metadata": {},
   "outputs": [],
   "source": [
    "import Augmentor\n",
    "\n",
    "# BAGUHIN MO YUNG DIRECTORY NG MGA IMAGES NA IDADATA AUGMENT MO ITO YON \"c:\\Users\\AI\\Desktop\\Short_Dataset\"\n",
    "p = Augmentor.Pipeline(r\"c:\\Users\\AI\\Desktop\\Short_Dataset\")\n",
    "\n",
    "p.random_brightness(probability=1, min_factor=0.1, max_factor=1)\n",
    "\n",
    "# TRIPLEHIN NATIN YUNG DATASET MO, SINCE MAY 150 IMAGES TAYO GAWIN NATIN 300\n",
    "p.sample(300)"
   ]
  },
  {
   "cell_type": "code",
   "execution_count": null,
   "metadata": {},
   "outputs": [],
   "source": [
    "############ HUWAG GALAWIN TO AT WAG DIN IRUN ################\n",
    "\n",
    "# p.flip_left_right(probability=1)\n",
    "# p.shear(probability=1, max_shear_left=25, max_shear_right=10)\n",
    "# p.skew(probability=1, magnitude=0.8)\n",
    "# p.resize(probability=1, width=320, height=320, resample_filter='BICUBIC')\n",
    "# p.zoom(probability=1, min_factor=1, max_factor=2)\n",
    "# p.random_brightness(probability=1, min_factor=0.1, max_factor=0.2)\n",
    "# p.random_brightness(probability=1, min_factor=0.2, max_factor=0.3)\n",
    "# p.random_brightness(probability=1, min_factor=0.3, max_factor=0.4)\n",
    "# p.random_brightness(probability=1, min_factor=0.4, max_factor=0.5)\n",
    "# p.random_brightness(probability=1, min_factor=0.5, max_factor=0.6)\n",
    "# p.random_brightness(probability=1, min_factor=0.6, max_factor=0.7)\n",
    "# p.random_brightness(probability=1, min_factor=0.7, max_factor=0.8)\n",
    "# p.random_brightness(probability=1, min_factor=0.8, max_factor=0.9)\n",
    "# p.random_contrast(probability=1, min_factor=0.5, max_factor=1.8)\n",
    "\n"
   ]
  }
 ],
 "metadata": {
  "kernelspec": {
   "display_name": "data_augmentation",
   "language": "python",
   "name": "python3"
  },
  "language_info": {
   "codemirror_mode": {
    "name": "ipython",
    "version": 3
   },
   "file_extension": ".py",
   "mimetype": "text/x-python",
   "name": "python",
   "nbconvert_exporter": "python",
   "pygments_lexer": "ipython3",
   "version": "3.9.18"
  }
 },
 "nbformat": 4,
 "nbformat_minor": 2
}
